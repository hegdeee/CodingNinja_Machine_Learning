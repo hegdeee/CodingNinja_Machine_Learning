{
 "cells": [
  {
   "cell_type": "markdown",
   "id": "23d952c3",
   "metadata": {},
   "source": [
    "### Content type\n"
   ]
  },
  {
   "cell_type": "code",
   "execution_count": null,
   "id": "6194805e",
   "metadata": {},
   "outputs": [],
   "source": [
    "## Print the required output in given format\n",
    "import requests\n",
    "response=requests.get('https://codingninjas.in/api/v3/events')\n",
    "header_in=response.headers\n",
    "print(header_in['content-type'])\n",
    "\n",
    "\n"
   ]
  },
  {
   "cell_type": "markdown",
   "id": "c922e397",
   "metadata": {},
   "source": [
    "###   Hound-Sub_Breed"
   ]
  },
  {
   "cell_type": "code",
   "execution_count": null,
   "id": "6da6dab1",
   "metadata": {},
   "outputs": [],
   "source": [
    "## Print the required output in given format\n",
    "import json\n",
    "import requests\n",
    "p=requests.get('https://dog.ceo/api/breeds/list/all')\n",
    "python_data=p.json()  # u can also write  python_data=json.loads(p.text)\n",
    "all_breed=python_data['message']\n",
    "hound=all_breed['hound']\n",
    "for i in hound:\n",
    "    print(i)"
   ]
  },
  {
   "cell_type": "markdown",
   "id": "3e39a349",
   "metadata": {},
   "source": [
    "### Poodle Sub_breed Count"
   ]
  },
  {
   "cell_type": "code",
   "execution_count": 3,
   "id": "869f8da0",
   "metadata": {},
   "outputs": [
    {
     "name": "stdout",
     "output_type": "stream",
     "text": [
      "4\n"
     ]
    }
   ],
   "source": [
    "## Print the required output in given format\n",
    "import requests\n",
    "response = requests.get('https://dog.ceo/api/breeds/list/all')\n",
    "python_data = response.json()\n",
    "sub_breeds = python_data['message']['poodle']\n",
    "print(len(sub_breeds))"
   ]
  },
  {
   "cell_type": "markdown",
   "id": "1bc4dc7e",
   "metadata": {},
   "source": [
    "### CN Online courses"
   ]
  },
  {
   "cell_type": "code",
   "execution_count": null,
   "id": "3eaa482f",
   "metadata": {},
   "outputs": [],
   "source": [
    "import requests\n",
    "import json\n",
    "p=requests.get('https://api.codingninjas.com/api/v3/courses')\n",
    "data=p.json()\n",
    "#print(data)\n",
    "courses=data['data']['courses']\n",
    "for i in courses:\n",
    "    if i['available_online']==True:\n",
    "        print(i['name'])\n",
    "\n"
   ]
  },
  {
   "cell_type": "markdown",
   "id": "412945e6",
   "metadata": {},
   "source": [
    "### Work Shop Event"
   ]
  },
  {
   "cell_type": "code",
   "execution_count": null,
   "id": "3fc7327f",
   "metadata": {},
   "outputs": [],
   "source": [
    "import json\n",
    "import requests\n",
    "\n",
    "response = requests.get('https://api.codingninjas.com/api/v3/events?event_category=ALL_EVENTS&event_sub_category=All%20Time%20Favorites&tag_list=&offset=0&_ga=2.198877805.350100406.1673765428-1348423423.1672116594')\n",
    "data = json.loads(response.text)\n",
    "\n",
    "events = data['data']['events']\n",
    "if len(events) == 0:\n",
    "    print('No Events !')\n",
    "else:\n",
    "    print(events[0]['short_desc'])"
   ]
  },
  {
   "cell_type": "markdown",
   "id": "1c47a168",
   "metadata": {},
   "source": [
    "### Title of the course"
   ]
  },
  {
   "cell_type": "code",
   "execution_count": null,
   "id": "1a8f0046",
   "metadata": {},
   "outputs": [],
   "source": [
    "import json\n",
    "import requests\n",
    "#p=requests.get('https://api.openaq.org/vl/cities')\n",
    "p=requests.get('http://api.codingninjas.com/api/v3/courses')\n",
    "data=p.json()\n",
    "course=data['data']['courses']\n",
    "for i in course:\n",
    "    if(i['id']==19):\n",
    "        print(i['title'])\n",
    "    "
   ]
  },
  {
   "cell_type": "markdown",
   "id": "ed89b1f8",
   "metadata": {},
   "source": [
    "### Total no of cities"
   ]
  },
  {
   "cell_type": "code",
   "execution_count": null,
   "id": "4646a2ec",
   "metadata": {},
   "outputs": [],
   "source": [
    "import requests\n",
    "response = requests.get('https://api.openaq.org/v1/cities')\n",
    "data = response.json()\n",
    "au_cities = [city for city in data['results'] if city['country'] == 'AU']\n",
    "total=len(au_cities)\n",
    "print(total)"
   ]
  },
  {
   "cell_type": "markdown",
   "id": "85942be3",
   "metadata": {},
   "source": [
    "### Holiday"
   ]
  },
  {
   "cell_type": "code",
   "execution_count": null,
   "id": "09ab1510",
   "metadata": {},
   "outputs": [],
   "source": [
    "import requests\n",
    "\n",
    "holiday_api_key = '7e30bcd0-72a7-47ba-9d33-f2e51dc8bd40'\n",
    "url = 'https://api.holidayapi.com/v1/holidays'\n",
    "response = requests.get(url, params={'key':holiday_api_key,'country': 'IN', 'year': 2022,'month': 10,'day': 2}, verify=False)\n",
    "python_data = response.json()\n",
    "python_data=python_data['holidays']\n",
    "print(python_data[0]['name'])"
   ]
  },
  {
   "cell_type": "code",
   "execution_count": null,
   "id": "fe45abe9",
   "metadata": {},
   "outputs": [],
   "source": []
  },
  {
   "cell_type": "code",
   "execution_count": null,
   "id": "843c91d3",
   "metadata": {},
   "outputs": [],
   "source": []
  }
 ],
 "metadata": {
  "kernelspec": {
   "display_name": "Python 3 (ipykernel)",
   "language": "python",
   "name": "python3"
  },
  "language_info": {
   "codemirror_mode": {
    "name": "ipython",
    "version": 3
   },
   "file_extension": ".py",
   "mimetype": "text/x-python",
   "name": "python",
   "nbconvert_exporter": "python",
   "pygments_lexer": "ipython3",
   "version": "3.10.9"
  }
 },
 "nbformat": 4,
 "nbformat_minor": 5
}
